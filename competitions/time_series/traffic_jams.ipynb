{
 "cells": [
  {
   "cell_type": "markdown",
   "id": "1a1f7a43",
   "metadata": {},
   "source": [
    "#### __ __ __ __ __Этапы решения__ __ __ __ __ __ __ __ ___ __ __ __ __ __ __ __ __ __ __ __ __ __ __ __Public Score__ __ __ __ __\n",
    "\n",
    "    1) Нахождение двух пиков в автокорреляции: 288 и 2016.\n",
    "        - C помощью tsaplots.plot_acf были найдены общие для всех рядов\n",
    "           точки максимума.\n",
    "           \n",
    "    2) Предсказанием является значение 288 измерений назад                          2.528\n",
    "        - Наивный метод \"сегодня как вчера\"\n",
    "        \n",
    "    3) Выбор среднего по всем имеющимся данным за прошлые недели,                   2.216\n",
    "    соответствующим предсказываемому временному промежутку.\n",
    "        - С какого-то момента глобально поведение временного ряда могло \n",
    "        измениться\n",
    "        - Значения временного ряда для некоторых недель могут \n",
    "        быть совсем нетипичными\n",
    "        - Необходимо доработать решение\n",
    "        \n",
    "    4) Значение соответствующее предыдущей неделе                                   2.18879\n",
    "        - Соответствие не только по времени, но и по дню недели позволяет \n",
    "          улучшить результат пункта 2.\n",
    "          \n",
    "    5) Эксперименты с AutoARIMA                                                     Failed\n",
    "        - Большая длина сезонности не позволяет алгоритму сходиться\n",
    "        и корректно работать, получены лишь константные предсказания.\n",
    "        \n",
    "-- Первый бейслайн пройден --\n",
    "\n",
    "    6) Выбор наилучшего подхода из пунктов 2 и 4 для каждого из рядов               2.161\n",
    "    (типа _1)\n",
    "        - Ошибочное предположение о важности только этих временных рядов из-за\n",
    "        полученных весов для подсчета метрики MASE.\n",
    "        \n",
    "    7) Выбор наилучшего подхода для каждого из рядов                                2.038\n",
    "       - Из-за того, что логически более обоснованным является использование\n",
    "       4), была произведена попытка выбора подхода на основании\n",
    "       полученных ошибок, умноженных на константу большую единицы для 2).\n",
    "       \n",
    "    8) Возвращение к AutoARIMA, экспоненциальное сглаживание                        Failed\n",
    "    - Попытка сокращения временных рядов до промежутков в 24 часа для\n",
    "    сходимости (seasonal_length 2016 -> 7)\n",
    "    \n",
    "    9) Выбор из прошлой недели, прошлого дня и позавчерашнего дня                   Failed\n",
    "    (расширение 7) )\n",
    "    \n",
    "    10) Выбор из прошлой недели и прошлого дня со сдвигом на [-10,...,10]           Failed\n",
    "    временных отрезков.\n",
    "    - На графиках для плохо предсказываемых рядов при наложении значений\n",
    "    предыдущих дней иногда было заметно небольшое отставание или \n",
    "    опережение.\n",
    "    \n",
    "    11) Использование 4) с коррекцией, соответствующей ошибке в                     Failed\n",
    "    предсказании предыдущего дня с помощью предыдущего дня на прошлой неделе.\n",
    "    - Идея основана на принятии во внимания изменения тренда относительно\n",
    "    прошлой недели\n",
    "    \n",
    "    12) Использование 6) с вычитанием медианы всех разностей в предсказании         Failed\n",
    "    последних 100 значений для временного ряда\n",
    "    - С одной стороны, позволяет уловить тренд\n",
    "    - С другой стороны, переобучение, ориентация на минимизацию не тех величин\n",
    "    \n",
    "    13) Ручной анализ подходящего дня для плохо аппроксимирующихся                  2.021\n",
    "    временных рядов\n",
    "    - Подбор на основании графика хорошего дня для предсказания\n",
    "    - Если бы ошибка накапливалась на определенном ряду, \n",
    "    могло бы существенно помочь\n",
    "    \n",
    "    14) Выбор дня, наиболее удачным образом предсказывающего последние              1.905\n",
    "    100 временных промежутков. (Конечная точка пункта 6) )\n",
    "    \n",
    "    15) Сглаживание ответа (rolling(num).mean())                                    Failed\n",
    "    - Казалось, что можно таким образом уменьшить ошибку для рядов, которые\n",
    "    сложно предсказать. (Им присуща большая вариация)\n",
    "    - Большой скачок между первым предсказанием и последним известным значением\n",
    "    убрать не удалось.\n",
    "    \n",
    "    16) Выбор среднего из записей, соответствующих 25% дням, хорошо                 1.651\n",
    "    аппроксимирующим последние 100 временных промежутков (возвращение\n",
    "    к пункту 3))\n",
    "    - Выбор процента на основании ошибки\n",
    "    - Полностью совпадающие с какой-то из предыдущих недель ряды \n",
    "    (ошибка 0 в 14) ) таким образом не предсказываем.\n",
    "    \n",
    "-- Второй бейслайн пройден --\n",
    "\n",
    "-- ЛЧ на привате пройдено --"
   ]
  },
  {
   "cell_type": "markdown",
   "id": "a4d379c7",
   "metadata": {},
   "source": [
    "Контроль:\n",
    "\n",
    "Предсказание последних ста известных значений для каждого ряда, вычисление MASE, использованной в соревновании."
   ]
  },
  {
   "cell_type": "code",
   "execution_count": 1,
   "id": "d8ccdc3e",
   "metadata": {},
   "outputs": [],
   "source": [
    "import pandas as pd\n",
    "import numpy as np"
   ]
  },
  {
   "cell_type": "code",
   "execution_count": 2,
   "id": "a6c506b4",
   "metadata": {},
   "outputs": [],
   "source": [
    "import seaborn as sns\n",
    "import matplotlib.pyplot as plt\n",
    "\n",
    "from statsmodels.graphics import tsaplots"
   ]
  },
  {
   "cell_type": "code",
   "execution_count": 3,
   "id": "ed22709e",
   "metadata": {},
   "outputs": [],
   "source": [
    "tr = pd.read_parquet('train.parquet')\n",
    "sample_submission = pd.read_csv('submission.csv')"
   ]
  },
  {
   "cell_type": "code",
   "execution_count": 4,
   "id": "ec0bf77d",
   "metadata": {},
   "outputs": [],
   "source": [
    "index_split = tr.index.str.split('_')"
   ]
  },
  {
   "cell_type": "code",
   "execution_count": 5,
   "id": "90fa5d85",
   "metadata": {},
   "outputs": [],
   "source": [
    "tr['row_num'] = index_split.str.get(0)\n",
    "tr['row_type'] = index_split.str.get(1)\n",
    "tr['timestamp'] = index_split.str.get(-1).astype(int)\n",
    "tr['row_id'] = tr.row_num + '_' + tr.row_type"
   ]
  },
  {
   "cell_type": "code",
   "execution_count": 6,
   "id": "94bb4dd1",
   "metadata": {},
   "outputs": [],
   "source": [
    "X = tr.pivot(index='row_id', columns='timestamp', values='Values')"
   ]
  },
  {
   "cell_type": "code",
   "execution_count": 7,
   "id": "d7b071a6",
   "metadata": {},
   "outputs": [],
   "source": [
    "X.columns = ['tr_' + str(col) for col in X.columns]"
   ]
  },
  {
   "cell_type": "code",
   "execution_count": 8,
   "id": "d9dc7bd4",
   "metadata": {
    "scrolled": true
   },
   "outputs": [
    {
     "data": {
      "image/png": "[encoded data removed]",
      "text/plain": [
       "<Figure size 432x288 with 1 Axes>"
      ]
     },
     "metadata": {
      "needs_background": "light"
     },
     "output_type": "display_data"
    }
   ],
   "source": [
    "fig = tsaplots.plot_acf(X.iloc[0, :], lags=np.arange(2100))\n",
    "plt.xlabel(0)\n",
    "plt.show()"
   ]
  },
  {
   "cell_type": "code",
   "execution_count": 9,
   "id": "d622c523",
   "metadata": {},
   "outputs": [],
   "source": [
    "w = np.sum(np.abs(X.diff(periods=1, axis=1)), axis=1)/17754\n",
    "w = 1/w"
   ]
  },
  {
   "cell_type": "code",
   "execution_count": 10,
   "id": "aba30678",
   "metadata": {},
   "outputs": [],
   "source": [
    "idx = np.arange(510)\n",
    "res1 = np.zeros((idx.size,50))\n",
    "error1 = 0\n",
    "s = np.zeros((idx.size,100))\n",
    "for j in range(50):\n",
    "    for i in idx:\n",
    "        res1[i][j] = w[i]*np.sum(np.abs(X.iloc[i][-100-288*(j+1):-288*(j+1)].to_numpy()-X.iloc[i][-100:].to_numpy()))/10000"
   ]
  },
  {
   "cell_type": "code",
   "execution_count": 11,
   "id": "56c17662",
   "metadata": {},
   "outputs": [],
   "source": [
    "not_zero = idx[res1.min(axis=1)>0]\n",
    "d ={}\n",
    "\n",
    "for i in not_zero:\n",
    "    d[i] = np.arange(50)[res1[i,:] < np.percentile(res1[i,:], 25)]"
   ]
  },
  {
   "cell_type": "code",
   "execution_count": 12,
   "id": "cac242ea",
   "metadata": {},
   "outputs": [],
   "source": [
    "# Ручное исследование плохо аппроксимирующихся рядов\n",
    "# for el in not_good:\n",
    "#     sns.lineplot(x=np.arange(2300), y=X.iloc[el,-2300:], n_boot=0)\n",
    "#     sns.lineplot(x=np.arange(100), y=X.iloc[el,-2116:-2016].rolling(5).mean(), n_boot=0, color=\"blue\")\n",
    "#     sns.lineplot(x=np.arange(100), y=X.iloc[el,-388:-288], n_boot=0, color=\"orange\")\n",
    "#     sns.lineplot(x=np.arange(100), y=X.iloc[el,-100:],linewidth = 4, n_boot=0, color=\"green\")\n",
    "#     sns.lineplot(x=np.arange(100), y=X.iloc[el, -676:-576], n_boot=0, color=\"black\")\n",
    "#     sns.lineplot(x=np.arange(100), y=X.iloc[el, -4132:-4032].to_numpy(), n_boot=0, color=\"purple\")\n",
    "#     sns.lineplot(x=np.arange(100), y=X.iloc[el, -6148:-6048].to_numpy(), n_boot=0, color=\"yellow\")\n",
    "#     sns.lineplot(x=np.arange(100), y=X.iloc[el, -8164:-8064].to_numpy(), n_boot=0, color=\"grey\")\n",
    "#     sns.lineplot(x=np.arange(100), y=X.iloc[el, -10180:-10080].to_numpy(), n_boot=0, color=\"red\")\n",
    "#     sns.lineplot(x=np.arange(100), y=X.iloc[el, -12196:-12096].to_numpy(), n_boot=0, color=\"lime\")\n",
    "#     sns.lineplot(x=np.arange(100), y=X.iloc[el, -14212:-14112].to_numpy(), n_boot=0, color=\"pink\")\n",
    "#     #sns.lineplot(x=np.arange(100)+2200, y=X.iloc[220, -100-1916-2016:-1916-2016], n_boot=0)\n",
    "#     plt.gcf().set_size_inches(40, 15)\n",
    "#     plt.show()"
   ]
  },
  {
   "cell_type": "code",
   "execution_count": null,
   "id": "078ac160",
   "metadata": {
    "scrolled": true
   },
   "outputs": [],
   "source": [
    "for i in range(100):\n",
    "        X.loc[:, f'pred_{i}'] = X.iloc[:, -2016]"
   ]
  },
  {
   "cell_type": "code",
   "execution_count": 14,
   "id": "c3bc526e",
   "metadata": {},
   "outputs": [],
   "source": [
    "indices = X.index"
   ]
  },
  {
   "cell_type": "code",
   "execution_count": 15,
   "id": "b200182f",
   "metadata": {},
   "outputs": [],
   "source": [
    "for i in not_zero:\n",
    "    a = np.zeros(100)\n",
    "    k = 0\n",
    "    for val in d[i]:\n",
    "        k += 1\n",
    "        a += X.iloc[i, -100-288*(val+1):-288*(val+1)].to_numpy()\n",
    "    a = a / k\n",
    "    for j in range(100):\n",
    "        X.loc[indices[i]][f'pred_{j}'] = a[j]"
   ]
  },
  {
   "cell_type": "code",
   "execution_count": 16,
   "id": "77de8e3b",
   "metadata": {},
   "outputs": [],
   "source": [
    "res = X.iloc[:, -100:].melt(ignore_index=False, value_name='Expected', var_name='pred_timestamp')\n",
    "index_split_res = res.index.str.split('_')\n",
    "res['row_num'] = index_split_res.str.get(0).astype(int)\n",
    "res['row_type'] = index_split_res.str.get(1).astype(int)\n",
    "res['timestamp'] = res.pred_timestamp.str.split('_').str.get(1).astype(int)\n",
    "res['Id'] = res.index + '_' + res.timestamp.astype(str)\n",
    "res.sort_values(['row_num', 'row_type', 'timestamp'], inplace=True)\n",
    "res = res[['Id', 'Expected']].reset_index(drop=True)"
   ]
  },
  {
   "cell_type": "code",
   "execution_count": 17,
   "id": "7245aa70",
   "metadata": {},
   "outputs": [],
   "source": [
    "res.to_csv('submission14.csv', index=False)"
   ]
  },
  {
   "cell_type": "code",
   "execution_count": null,
   "id": "422baad3",
   "metadata": {},
   "outputs": [],
   "source": []
  }
 ],
 "metadata": {
  "kernelspec": {
   "display_name": "Python 3 (ipykernel)",
   "language": "python",
   "name": "python3"
  },
  "language_info": {
   "codemirror_mode": {
    "name": "ipython",
    "version": 3
   },
   "file_extension": ".py",
   "mimetype": "text/x-python",
   "name": "python",
   "nbconvert_exporter": "python",
   "pygments_lexer": "ipython3",
   "version": "3.9.7"
  }
 },
 "nbformat": 4,
 "nbformat_minor": 5
}
